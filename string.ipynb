{
 "cells": [
  {
   "cell_type": "code",
   "execution_count": 1,
   "metadata": {},
   "outputs": [
    {
     "name": "stdout",
     "output_type": "stream",
     "text": [
      "16\n"
     ]
    }
   ],
   "source": [
    "#string is a sequence of character with ''\n",
    "#intialise the string\n",
    "#s=''\n",
    "#b=1\n",
    "#typecasting\n",
    "#print(str(b))\n",
    "\n",
    "#length\n",
    "s='pratishtha singh'\n",
    "print(len(s))\n"
   ]
  },
  {
   "cell_type": "code",
   "execution_count": 7,
   "metadata": {},
   "outputs": [
    {
     "name": "stdout",
     "output_type": "stream",
     "text": [
      "a\n",
      "0 p\n",
      "1 r\n",
      "2 a\n",
      "3 t\n",
      "4 i\n",
      "5 s\n",
      "6 h\n",
      "7 t\n",
      "8 h\n",
      "9 a\n",
      "10  \n",
      "11 s\n",
      "12 i\n",
      "13 n\n",
      "14 g\n",
      "15 h\n"
     ]
    }
   ],
   "source": [
    "#indexing\n",
    "print(s[2])\n",
    "for i in range(len(s)):\n",
    "    print(i,s[i])\n",
    "\n"
   ]
  },
  {
   "cell_type": "code",
   "execution_count": 13,
   "metadata": {},
   "outputs": [
    {
     "name": "stdout",
     "output_type": "stream",
     "text": [
      "pratishtha singh\n",
      "a singh\n",
      "pratis\n"
     ]
    },
    {
     "ename": "TypeError",
     "evalue": "'builtin_function_or_method' object is not subscriptable",
     "output_type": "error",
     "traceback": [
      "\u001b[1;31m---------------------------------------------------------------------------\u001b[0m",
      "\u001b[1;31mTypeError\u001b[0m                                 Traceback (most recent call last)",
      "Cell \u001b[1;32mIn[13], line 5\u001b[0m\n\u001b[0;32m      3\u001b[0m \u001b[39mprint\u001b[39m(s[\u001b[39m9\u001b[39m:])\n\u001b[0;32m      4\u001b[0m \u001b[39mprint\u001b[39m(s[:\u001b[39m6\u001b[39m])\n\u001b[1;32m----> 5\u001b[0m \u001b[39mprint\u001b[39m(\u001b[39mlen\u001b[39;49m[s])\n",
      "\u001b[1;31mTypeError\u001b[0m: 'builtin_function_or_method' object is not subscriptable"
     ]
    }
   ],
   "source": [
    "#slicing\n",
    "print(s[:])\n",
    "print(s[9:])\n",
    "print(s[:6])\n",
    "print(len[s])\n"
   ]
  },
  {
   "cell_type": "code",
   "execution_count": null,
   "metadata": {},
   "outputs": [],
   "source": []
  },
  {
   "cell_type": "code",
   "execution_count": null,
   "metadata": {},
   "outputs": [],
   "source": []
  }
 ],
 "metadata": {
  "kernelspec": {
   "display_name": "base",
   "language": "python",
   "name": "python3"
  },
  "language_info": {
   "codemirror_mode": {
    "name": "ipython",
    "version": 3
   },
   "file_extension": ".py",
   "mimetype": "text/x-python",
   "name": "python",
   "nbconvert_exporter": "python",
   "pygments_lexer": "ipython3",
   "version": "3.10.10"
  },
  "orig_nbformat": 4
 },
 "nbformat": 4,
 "nbformat_minor": 2
}
