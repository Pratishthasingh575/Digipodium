{
 "cells": [
  {
   "cell_type": "code",
   "execution_count": 1,
   "metadata": {},
   "outputs": [
    {
     "name": "stdout",
     "output_type": "stream",
     "text": [
      "16\n"
     ]
    }
   ],
   "source": [
    "#string is a sequence of character with ''\n",
    "#intialise the string\n",
    "#s=''\n",
    "#b=1\n",
    "#typecasting\n",
    "#print(str(b))\n",
    "\n",
    "#length\n",
    "s='pratishtha singh'\n",
    "print(len(s))\n"
   ]
  },
  {
   "cell_type": "code",
   "execution_count": 7,
   "metadata": {},
   "outputs": [
    {
     "name": "stdout",
     "output_type": "stream",
     "text": [
      "a\n",
      "0 p\n",
      "1 r\n",
      "2 a\n",
      "3 t\n",
      "4 i\n",
      "5 s\n",
      "6 h\n",
      "7 t\n",
      "8 h\n",
      "9 a\n",
      "10  \n",
      "11 s\n",
      "12 i\n",
      "13 n\n",
      "14 g\n",
      "15 h\n"
     ]
    }
   ],
   "source": [
    "#indexing\n",
    "print(s[2])\n",
    "for i in range(len(s)):\n",
    "    print(i,s[i])\n",
    "\n"
   ]
  },
  {
   "cell_type": "code",
   "execution_count": 1,
   "metadata": {},
   "outputs": [],
   "source": [
    "msg='life before death,strenght before weakness,journey before distruction.'"
   ]
  },
  {
   "cell_type": "code",
   "execution_count": 2,
   "metadata": {},
   "outputs": [
    {
     "name": "stdout",
     "output_type": "stream",
     "text": [
      "life before death\n"
     ]
    }
   ],
   "source": [
    "print(msg[:17])"
   ]
  },
  {
   "cell_type": "code",
   "execution_count": 3,
   "metadata": {},
   "outputs": [
    {
     "data": {
      "text/plain": [
       "['life',\n",
       " 'before',\n",
       " 'death,strenght',\n",
       " 'before',\n",
       " 'weakness,journey',\n",
       " 'before',\n",
       " 'distruction.']"
      ]
     },
     "execution_count": 3,
     "metadata": {},
     "output_type": "execute_result"
    }
   ],
   "source": [
    "msg.split()\n"
   ]
  },
  {
   "cell_type": "code",
   "execution_count": 4,
   "metadata": {},
   "outputs": [
    {
     "data": {
      "text/plain": [
       "['life before death',\n",
       " 'strenght before weakness',\n",
       " 'journey before distruction.']"
      ]
     },
     "execution_count": 4,
     "metadata": {},
     "output_type": "execute_result"
    }
   ],
   "source": [
    "msg.split(',')\n"
   ]
  },
  {
   "cell_type": "code",
   "execution_count": 25,
   "metadata": {},
   "outputs": [],
   "source": [
    "poem= ('rain rain go away , come again another day ,  little jonny wants to play , rain raingo away')"
   ]
  },
  {
   "cell_type": "code",
   "execution_count": 13,
   "metadata": {},
   "outputs": [
    {
     "data": {
      "text/plain": [
       "['rain rain go away ',\n",
       " ' come again another day ',\n",
       " '  little jonny wants to play ',\n",
       " ' rain raingo away']"
      ]
     },
     "execution_count": 13,
     "metadata": {},
     "output_type": "execute_result"
    }
   ],
   "source": [
    "poem.split(',')"
   ]
  },
  {
   "cell_type": "code",
   "execution_count": 16,
   "metadata": {},
   "outputs": [
    {
     "name": "stdout",
     "output_type": "stream",
     "text": [
      "rain rain go away,\n",
      "come again aother day ,\n",
      "little jonny wnts to play, \n",
      "rain rain go away.\n",
      "-x--x--x--x--x--x--x--x--x--x-\n",
      "89 numof char\n",
      "18 num of words\n",
      "4 num of lines\n"
     ]
    }
   ],
   "source": [
    "poem='''rain rain go away,\n",
    "come again aother day ,\n",
    "little jonny wnts to play, \n",
    "rain rain go away.'''\n",
    "print(poem)\n",
    "print ('-x-'*10)\n",
    "print(len(poem),'numof char')\n",
    "print(len(poem.split()),'num of words')\n",
    "print(len(poem.splitlines()),'num of lines')"
   ]
  },
  {
   "cell_type": "code",
   "execution_count": 19,
   "metadata": {},
   "outputs": [
    {
     "name": "stdout",
     "output_type": "stream",
     "text": [
      "LIFE BEFORE DEATH,STRENGHT BEFORE WEAKNESS,JOURNEY BEFORE DISTRUCTION.\n",
      "life before death,strenght before weakness,journey before distruction.\n",
      "Life Before Death,Strenght Before Weakness,Journey Before Distruction.\n",
      "Life before death,strenght before weakness,journey before distruction.\n",
      "LIFE BEFORE DEATH,STRENGHT BEFORE WEAKNESS,JOURNEY BEFORE DISTRUCTION.\n"
     ]
    }
   ],
   "source": [
    "print(msg.upper())\n",
    "print(msg.lower())\n",
    "print(msg.title())\n",
    "print(msg.capitalize())\n",
    "print(msg.swapcase())"
   ]
  },
  {
   "cell_type": "code",
   "execution_count": 21,
   "metadata": {},
   "outputs": [
    {
     "name": "stdout",
     "output_type": "stream",
     "text": [
      "apple False\n",
      "apple True\n",
      "apple True\n"
     ]
    }
   ],
   "source": [
    "a='apple'\n",
    "b='290'\n",
    "c='apple100'\n",
    "print(a,a.isnumeric())\n",
    "print(a,a.isalpha())\n",
    "print(a,a.isalnum())"
   ]
  },
  {
   "cell_type": "code",
   "execution_count": 27,
   "metadata": {},
   "outputs": [
    {
     "name": "stdout",
     "output_type": "stream",
     "text": [
      "pain pain go away , come again another day ,  little jonny wants to play , pain paingo away\n"
     ]
    }
   ],
   "source": [
    "print(poem.replace('rain','pain'))"
   ]
  },
  {
   "cell_type": "code",
   "execution_count": 28,
   "metadata": {},
   "outputs": [
    {
     "name": "stdout",
     "output_type": "stream",
     "text": [
      "rasum rasum go away , come again another day ,  little jonny wants to play , rain raingo away\n"
     ]
    }
   ],
   "source": [
    "print(poem.replace('in','sum',2))"
   ]
  },
  {
   "cell_type": "code",
   "execution_count": null,
   "metadata": {},
   "outputs": [],
   "source": []
  }
 ],
 "metadata": {
  "kernelspec": {
   "display_name": "base",
   "language": "python",
   "name": "python3"
  },
  "language_info": {
   "codemirror_mode": {
    "name": "ipython",
    "version": 3
   },
   "file_extension": ".py",
   "mimetype": "text/x-python",
   "name": "python",
   "nbconvert_exporter": "python",
   "pygments_lexer": "ipython3",
   "version": "3.10.10"
  },
  "orig_nbformat": 4
 },
 "nbformat": 4,
 "nbformat_minor": 2
}
