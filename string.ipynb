{
 "cells": [
  {
   "cell_type": "code",
   "execution_count": 1,
   "metadata": {},
   "outputs": [
    {
     "name": "stdout",
     "output_type": "stream",
     "text": [
      "16\n"
     ]
    }
   ],
   "source": [
    "#string is a sequence of character with ''\n",
    "#intialise the string\n",
    "#s=''\n",
    "#b=1\n",
    "#typecasting\n",
    "#print(str(b))\n",
    "\n",
    "#length\n",
    "s='pratishtha singh'\n",
    "print(len(s))\n"
   ]
  },
  {
   "cell_type": "code",
   "execution_count": 7,
   "metadata": {},
   "outputs": [
    {
     "name": "stdout",
     "output_type": "stream",
     "text": [
      "a\n",
      "0 p\n",
      "1 r\n",
      "2 a\n",
      "3 t\n",
      "4 i\n",
      "5 s\n",
      "6 h\n",
      "7 t\n",
      "8 h\n",
      "9 a\n",
      "10  \n",
      "11 s\n",
      "12 i\n",
      "13 n\n",
      "14 g\n",
      "15 h\n"
     ]
    }
   ],
   "source": [
    "#indexing\n",
    "print(s[2])\n",
    "for i in range(len(s)):\n",
    "    print(i,s[i])\n",
    "\n"
   ]
  },
  {
   "cell_type": "code",
   "execution_count": null,
   "metadata": {},
   "outputs": [],
   "source": []
  },
  {
   "cell_type": "code",
   "execution_count": null,
   "metadata": {},
   "outputs": [],
   "source": []
  }
 ],
 "metadata": {
  "kernelspec": {
   "display_name": "base",
   "language": "python",
   "name": "python3"
  },
  "language_info": {
   "codemirror_mode": {
    "name": "ipython",
    "version": 3
   },
   "file_extension": ".py",
   "mimetype": "text/x-python",
   "name": "python",
   "nbconvert_exporter": "python",
   "pygments_lexer": "ipython3",
   "version": "3.10.10"
  },
  "orig_nbformat": 4
 },
 "nbformat": 4,
 "nbformat_minor": 2
}
