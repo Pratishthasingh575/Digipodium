{
 "cells": [
  {
   "cell_type": "code",
   "execution_count": 2,
   "metadata": {},
   "outputs": [],
   "source": [
    "lbs_info ={\n",
    "    'full name ':\"lal bahadur shastri college\",\n",
    "     'short name' :'lbs',\n",
    "    'student':440,\n",
    "    'culture':'mood kharab bache'\n",
    "}"
   ]
  },
  {
   "cell_type": "code",
   "execution_count": 10,
   "metadata": {},
   "outputs": [],
   "source": [
    "movie ={\n",
    "    'suryavansham':{\n",
    "        'streamed on ' :'sony max',\n",
    "        'plot': 'rich father  poor son ',\n",
    "        'rating':10,\n",
    "    },\n",
    "     'ghajini':{\n",
    "        'streamed on ' :'sony max',\n",
    "        'plot': 'rich boy forget things ',\n",
    "        'rating':10,\n",
    "    },\n",
    "    'k3g':{\n",
    "        'streamed on ' :'disney',\n",
    "        'plot': 'k3g ',\n",
    "        'rating':10,\n",
    "    },\n",
    "    'guy':{\n",
    "        'streamed on ' :'netflix',\n",
    "        'plot': 'guy in a game ',\n",
    "        'rating':10,\n",
    "    },\n",
    "    'super30':{\n",
    "        'streamed on ' :'star gold',\n",
    "        'plot': 'IIT educator ',\n",
    "        'rating':10,\n",
    "    }\n",
    "\n",
    "}"
   ]
  },
  {
   "attachments": {},
   "cell_type": "markdown",
   "metadata": {},
   "source": [
    "# adding data\n",
    "syntax dict[key]=value"
   ]
  },
  {
   "cell_type": "code",
   "execution_count": 7,
   "metadata": {},
   "outputs": [],
   "source": [
    "movie['3 idiots']={\n",
    "        'streamed on ' :'sony max',\n",
    "        'plot': 'iit friendship',\n",
    "        'rating':10,\n",
    "    }"
   ]
  },
  {
   "attachments": {},
   "cell_type": "markdown",
   "metadata": {},
   "source": [
    "# retrive\n",
    "movie['guy]"
   ]
  },
  {
   "cell_type": "code",
   "execution_count": 8,
   "metadata": {},
   "outputs": [
    {
     "data": {
      "text/plain": [
       "{'streamed on ': 'netflix', 'plot': 'guy in a game ', 'rating': 10}"
      ]
     },
     "execution_count": 8,
     "metadata": {},
     "output_type": "execute_result"
    }
   ],
   "source": [
    "movie['guy']"
   ]
  },
  {
   "cell_type": "code",
   "execution_count": 12,
   "metadata": {},
   "outputs": [
    {
     "data": {
      "text/plain": [
       "['suryavansham', 'ghajini', 'k3g', 'guy', 'super30']"
      ]
     },
     "execution_count": 12,
     "metadata": {},
     "output_type": "execute_result"
    }
   ],
   "source": [
    "# getting only key\n",
    "list(movie.keys())"
   ]
  },
  {
   "cell_type": "code",
   "execution_count": 13,
   "metadata": {},
   "outputs": [
    {
     "data": {
      "text/plain": [
       "[('suryavansham',\n",
       "  {'streamed on ': 'sony max',\n",
       "   'plot': 'rich father  poor son ',\n",
       "   'rating': 10}),\n",
       " ('ghajini',\n",
       "  {'streamed on ': 'sony max',\n",
       "   'plot': 'rich boy forget things ',\n",
       "   'rating': 10}),\n",
       " ('k3g', {'streamed on ': 'disney', 'plot': 'k3g ', 'rating': 10}),\n",
       " ('guy', {'streamed on ': 'netflix', 'plot': 'guy in a game ', 'rating': 10}),\n",
       " ('super30',\n",
       "  {'streamed on ': 'star gold', 'plot': 'IIT educator ', 'rating': 10})]"
      ]
     },
     "execution_count": 13,
     "metadata": {},
     "output_type": "execute_result"
    }
   ],
   "source": [
    "\n",
    "# getting only item \n",
    "list(movie.items())"
   ]
  },
  {
   "cell_type": "code",
   "execution_count": 16,
   "metadata": {},
   "outputs": [
    {
     "name": "stdout",
     "output_type": "stream",
     "text": [
      "SURYAVANSHAM\n",
      "streamed on    |sony max\n",
      "\n",
      "plot           |rich father  poor son \n",
      "\n",
      "rating         |10\n",
      "\n",
      "GHAJINI\n",
      "streamed on    |sony max\n",
      "\n",
      "plot           |rich boy forget things \n",
      "\n",
      "rating         |10\n",
      "\n",
      "K3G\n",
      "streamed on    |disney\n",
      "\n",
      "plot           |k3g \n",
      "\n",
      "rating         |10\n",
      "\n",
      "GUY\n",
      "streamed on    |netflix\n",
      "\n",
      "plot           |guy in a game \n",
      "\n",
      "rating         |10\n",
      "\n",
      "SUPER30\n",
      "streamed on    |star gold\n",
      "\n",
      "plot           |IIT educator \n",
      "\n",
      "rating         |10\n",
      "\n"
     ]
    }
   ],
   "source": [
    "for title, details in movie.items():\n",
    "    print(title.upper())\n",
    "    for entry , value in details.items():\n",
    "        print(f'{entry:15}|{value}')\n",
    "        print()"
   ]
  },
  {
   "cell_type": "code",
   "execution_count": 17,
   "metadata": {},
   "outputs": [
    {
     "name": "stdout",
     "output_type": "stream",
     "text": [
      "{'suryavansham': {'streamed on ': 'sony max', 'plot': 'rich father  poor son ', 'rating': 10}, 'k3g': {'streamed on ': 'disney', 'plot': 'k3g ', 'rating': 10}, 'guy': {'streamed on ': 'netflix', 'plot': 'guy in a game ', 'rating': 10}, 'super30': {'streamed on ': 'star gold', 'plot': 'IIT educator ', 'rating': 10}}\n"
     ]
    }
   ],
   "source": [
    "movie.pop('ghajini')\n",
    "print(movie)"
   ]
  },
  {
   "cell_type": "code",
   "execution_count": null,
   "metadata": {},
   "outputs": [],
   "source": []
  }
 ],
 "metadata": {
  "kernelspec": {
   "display_name": "base",
   "language": "python",
   "name": "python3"
  },
  "language_info": {
   "codemirror_mode": {
    "name": "ipython",
    "version": 3
   },
   "file_extension": ".py",
   "mimetype": "text/x-python",
   "name": "python",
   "nbconvert_exporter": "python",
   "pygments_lexer": "ipython3",
   "version": "3.10.10"
  },
  "orig_nbformat": 4
 },
 "nbformat": 4,
 "nbformat_minor": 2
}
