{
 "cells": [
  {
   "cell_type": "code",
   "execution_count": 1,
   "metadata": {},
   "outputs": [
    {
     "name": "stdout",
     "output_type": "stream",
     "text": [
      "pratishtha\n"
     ]
    }
   ],
   "source": [
    "name=\"pratishtha\"\n",
    "print(name)"
   ]
  },
  {
   "cell_type": "code",
   "execution_count": 17,
   "metadata": {},
   "outputs": [],
   "source": [
    "city=input('enter the city')"
   ]
  },
  {
   "cell_type": "code",
   "execution_count": 18,
   "metadata": {},
   "outputs": [
    {
     "name": "stdout",
     "output_type": "stream",
     "text": [
      "new york\n",
      "lbs\n",
      "2nd year\n",
      "103\n"
     ]
    }
   ],
   "source": [
    "college=input('enter your college')\n",
    "klass=input('enter your class')\n",
    "iq= input('enter your iq') \n",
    "print(city,college,klass,iq,sep='\\n')"
   ]
  },
  {
   "cell_type": "code",
   "execution_count": 15,
   "metadata": {},
   "outputs": [
    {
     "name": "stdout",
     "output_type": "stream",
     "text": [
      "pratishtha\n",
      "\n",
      "lbs\n",
      "2nd year\n",
      "103\n"
     ]
    }
   ],
   "source": [
    "print(name,city,college,klass,iq,sep='\\n')"
   ]
  },
  {
   "cell_type": "code",
   "execution_count": 16,
   "metadata": {},
   "outputs": [
    {
     "data": {
      "text/plain": [
       "'hello'"
      ]
     },
     "execution_count": 16,
     "metadata": {},
     "output_type": "execute_result"
    }
   ],
   "source": [
    "f'hello{city}'"
   ]
  },
  {
   "cell_type": "code",
   "execution_count": 19,
   "metadata": {},
   "outputs": [
    {
     "name": "stdout",
     "output_type": "stream",
     "text": [
      "hi i am pratishtha\n",
      "I live in new york\n",
      "i study in lbs\n",
      "i am in 2nd year\n",
      "my iq is103\n"
     ]
    }
   ],
   "source": [
    "print(f'hi i am {name}')\n",
    "print(f'I live in {city}')\n",
    "print(f'i study in {college}')\n",
    "print(f'i am in {klass}')\n",
    "print(f'my iq is{iq}')"
   ]
  },
  {
   "cell_type": "code",
   "execution_count": null,
   "metadata": {},
   "outputs": [],
   "source": []
  }
 ],
 "metadata": {
  "kernelspec": {
   "display_name": "base",
   "language": "python",
   "name": "python3"
  },
  "language_info": {
   "codemirror_mode": {
    "name": "ipython",
    "version": 3
   },
   "file_extension": ".py",
   "mimetype": "text/x-python",
   "name": "python",
   "nbconvert_exporter": "python",
   "pygments_lexer": "ipython3",
   "version": "3.10.10"
  },
  "orig_nbformat": 4
 },
 "nbformat": 4,
 "nbformat_minor": 2
}
