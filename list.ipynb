{
    "cells": [
        {
            "cell_type": "code",
            "execution_count": 4,
            "metadata": {},
            "outputs": [],
            "source": [
                "list1=[\"mkhil\",\"aanchal\",\"aman\",\"rahul\"]\n",
                "\n",
                "#list of number\n",
                "\n",
                "list2=[1,2,3]\n",
                "\n",
                "#list of mix data\n",
                "\n",
                "list3=['ravi',12,2,\"false\"]\n",
                "\n",
                "#nested list\n",
                "\n",
                "list4=[[123]]\n"
            ]
        },
        {
            "cell_type": "code",
            "execution_count": 18,
            "metadata": {},
            "outputs": [
                {
                    "name": "stdout",
                    "output_type": "stream",
                    "text": [
                        "[80, 90]\n",
                        "[10, 20, 30, 40, 50, 60, 70, 80]\n",
                        "[50, 60]\n"
                    ]
                }
            ],
            "source": [
                "#getting a listslice\n",
                "l=[10,20,30,40,50,60,70,80,90,100]\n",
                "slice1=l[-3:-1]\n",
                "slice2=l[0:-2]\n",
                "slice3=l[4:-4]\n",
                "print(slice1)\n",
                "print(slice2)\n",
                "print(slice3)"
            ]
        },
        {
            "cell_type": "code",
            "execution_count": 19,
            "metadata": {},
            "outputs": [
                {
                    "name": "stdout",
                    "output_type": "stream",
                    "text": [
                        "[70, 80]\n",
                        "[40, 50, 60, 70, 80, 100]\n",
                        "[50]\n"
                    ]
                }
            ],
            "source": [
                "l=[10,20,30,40,50,60,70,80,100]\n",
                "slice1=l[-3:-1]\n",
                "slice2=l[3:len(l)]\n",
                "slice3=l[4:-4]\n",
                "print(slice1)\n",
                "print(slice2)\n",
                "print(slice3)"
            ]
        },
        {
            "cell_type": "code",
            "execution_count": 33,
            "metadata": {},
            "outputs": [],
            "source": [
                "list2=[1,2,3,4,5,\"a\",\"b\"]\n"
            ]
        },
        {
            "cell_type": "code",
            "execution_count": 34,
            "metadata": {},
            "outputs": [
                {
                    "name": "stdout",
                    "output_type": "stream",
                    "text": [
                        "[1, 2, 3, 4, 5, 'a', 'b', 'c']\n"
                    ]
                }
            ],
            "source": [
                "list2.append('c')\n",
                "print(list2)"
            ]
        },
        {
            "cell_type": "code",
            "execution_count": null,
            "metadata": {},
            "outputs": [],
            "source": []
        }
    ],
    "metadata": {
        "kernelspec": {
            "display_name": "base",
            "language": "python",
            "name": "python3"
        },
        "language_info": {
            "codemirror_mode": {
                "name": "ipython",
                "version": 3
            },
            "file_extension": ".py",
            "mimetype": "text/x-python",
            "name": "python",
            "nbconvert_exporter": "python",
            "pygments_lexer": "ipython3",
            "version": "3.10.10"
        },
        "orig_nbformat": 4
    },
    "nbformat": 4,
    "nbformat_minor": 2
}
