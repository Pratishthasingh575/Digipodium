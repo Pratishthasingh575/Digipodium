{
 "cells": [
  {
   "cell_type": "code",
   "execution_count": 1,
   "metadata": {},
   "outputs": [
    {
     "name": "stdout",
     "output_type": "stream",
     "text": [
      "0\n",
      "1\n",
      "2\n",
      "3\n",
      "4\n",
      "5\n",
      "6\n",
      "7\n",
      "8\n",
      "9\n",
      "0\n",
      "1\n",
      "2\n",
      "3\n",
      "4\n",
      "5\n",
      "6\n",
      "7\n",
      "8\n",
      "9\n"
     ]
    }
   ],
   "source": [
    "#for and while loop\n",
    "###for -step based loop\n",
    "\n",
    "for i in range(10):\n",
    "    print(i)\n",
    "###while -condition based loop\n",
    "i=0\n",
    "while i<10:\n",
    "    print(i)\n",
    "    i+=1\n",
    "\n"
   ]
  },
  {
   "cell_type": "code",
   "execution_count": 8,
   "metadata": {},
   "outputs": [],
   "source": [
    "movies =['Shrek','kung fu panda ','coco','the little mermaid','moneey heist','tvd','vincenzo''stranger things','harry potter','lion king','after']"
   ]
  },
  {
   "cell_type": "code",
   "execution_count": 9,
   "metadata": {},
   "outputs": [
    {
     "name": "stdout",
     "output_type": "stream",
     "text": [
      "total movies =10\n"
     ]
    }
   ],
   "source": [
    "print(f'total movies ={len(movies)}')"
   ]
  },
  {
   "cell_type": "code",
   "execution_count": 10,
   "metadata": {},
   "outputs": [
    {
     "name": "stdout",
     "output_type": "stream",
     "text": [
      "Shrek\n",
      "kung fu panda \n",
      "coco\n",
      "the little mermaid\n",
      "moneey heist\n",
      "tvd\n",
      "vincenzostranger things\n",
      "harry potter\n",
      "lion king\n",
      "after\n"
     ]
    }
   ],
   "source": [
    "for movie in movies :\n",
    "    print(movie)"
   ]
  },
  {
   "cell_type": "code",
   "execution_count": 11,
   "metadata": {},
   "outputs": [
    {
     "name": "stdout",
     "output_type": "stream",
     "text": [
      "Shrek 5\n",
      "kung fu panda  14\n",
      "coco 4\n",
      "the little mermaid 18\n",
      "moneey heist 12\n",
      "tvd 3\n",
      "vincenzostranger things 23\n",
      "harry potter 12\n",
      "lion king 9\n",
      "after 5\n"
     ]
    }
   ],
   "source": [
    "for movie in movies :\n",
    "    print(movie,len(movie))"
   ]
  },
  {
   "cell_type": "code",
   "execution_count": 17,
   "metadata": {},
   "outputs": [
    {
     "name": "stdout",
     "output_type": "stream",
     "text": [
      "Shrek                                         5\n",
      "kung fu panda                                 14\n",
      "coco                                          4\n",
      "the little mermaid                            18\n",
      "moneey heist                                  12\n",
      "tvd                                           3\n",
      "vincenzostranger things                       23\n",
      "harry potter                                  12\n",
      "lion king                                     9\n",
      "after                                         5\n"
     ]
    }
   ],
   "source": [
    "for movie in movies :\n",
    " print(f'{movie:46}{len(movie)}')"
   ]
  },
  {
   "cell_type": "code",
   "execution_count": 18,
   "metadata": {},
   "outputs": [
    {
     "name": "stdout",
     "output_type": "stream",
     "text": [
      "32\n",
      "45\n",
      "65\n",
      "76\n",
      "87\n",
      "3\n",
      "55\n",
      "66\n"
     ]
    }
   ],
   "source": [
    "num =[32,45,65,76,87,3,55,66]\n",
    "for i in num:\n",
    "    print(i)"
   ]
  },
  {
   "cell_type": "code",
   "execution_count": 27,
   "metadata": {},
   "outputs": [
    {
     "name": "stdout",
     "output_type": "stream",
     "text": [
      "32 = 1024\n",
      "76 = 5776\n",
      "66 = 4356\n"
     ]
    }
   ],
   "source": [
    "num =[32,45,65,76,87,3,55,66]\n",
    "for i in num:\n",
    "    if i % 2 == 0:\n",
    "      print(i,'=', i**2,)"
   ]
  },
  {
   "cell_type": "code",
   "execution_count": 34,
   "metadata": {},
   "outputs": [
    {
     "name": "stdout",
     "output_type": "stream",
     "text": [
      "174\n"
     ]
    }
   ],
   "source": [
    "total_even = 0\n",
    "for i in num:\n",
    "    if i % 2==0:\n",
    "        total_even +=i\n",
    "print(total_even)"
   ]
  },
  {
   "cell_type": "code",
   "execution_count": 35,
   "metadata": {},
   "outputs": [
    {
     "name": "stdout",
     "output_type": "stream",
     "text": [
      "32\n",
      "45\n"
     ]
    }
   ],
   "source": [
    "for i in num:\n",
    "    print(i)\n",
    "    if i > 40:\n",
    "        break"
   ]
  },
  {
   "cell_type": "code",
   "execution_count": 37,
   "metadata": {},
   "outputs": [
    {
     "name": "stdout",
     "output_type": "stream",
     "text": [
      "apple\n",
      "potato\n",
      "banana\n",
      "mango\n"
     ]
    }
   ],
   "source": [
    "x=[\"apple\",'potato','banana','mango','','organge']\n",
    "for item in x:\n",
    "    if len(item) ==0:\n",
    "        break\n",
    "    print(item)"
   ]
  },
  {
   "cell_type": "code",
   "execution_count": 41,
   "metadata": {},
   "outputs": [
    {
     "name": "stdout",
     "output_type": "stream",
     "text": [
      "login successful\n"
     ]
    }
   ],
   "source": [
    "error=0\n",
    "while True:\n",
    "    username = input('enter username:')\n",
    "    password =input ('enter password')\n",
    "    if username == 'admin' and password=='secret':\n",
    "        print('login successful')\n",
    "        break\n",
    "    elif error ==3:\n",
    "        print('too many error')\n",
    "        break\n",
    "    else:\n",
    "        print('invaid username?password')\n",
    "        error +=1"
   ]
  },
  {
   "cell_type": "code",
   "execution_count": 1,
   "metadata": {},
   "outputs": [],
   "source": [
    "x=[\n",
    "    ['warbreaker',456],\n",
    "    ['avatar',4566],\n",
    "    ['2 states',789],\n",
    "    ['helen keler',867],\n",
    "    ['falt in our star',3444],\n",
    "]"
   ]
  },
  {
   "cell_type": "code",
   "execution_count": 5,
   "metadata": {},
   "outputs": [
    {
     "name": "stdout",
     "output_type": "stream",
     "text": [
      "warbreaker\n",
      "456\n",
      "---\n",
      "avatar\n",
      "4566\n",
      "---\n",
      "2 states\n",
      "789\n",
      "---\n",
      "helen keler\n",
      "867\n",
      "---\n",
      "falt in our star\n",
      "3444\n",
      "---\n"
     ]
    }
   ],
   "source": [
    "for item in x:\n",
    "    for data in item:\n",
    "        print(data)\n",
    "    print('---')"
   ]
  },
  {
   "cell_type": "code",
   "execution_count": null,
   "metadata": {},
   "outputs": [],
   "source": []
  }
 ],
 "metadata": {
  "kernelspec": {
   "display_name": "Python 3",
   "language": "python",
   "name": "python3"
  },
  "language_info": {
   "codemirror_mode": {
    "name": "ipython",
    "version": 3
   },
   "file_extension": ".py",
   "mimetype": "text/x-python",
   "name": "python",
   "nbconvert_exporter": "python",
   "pygments_lexer": "ipython3",
   "version": "3.10.10"
  },
  "orig_nbformat": 4
 },
 "nbformat": 4,
 "nbformat_minor": 2
}
